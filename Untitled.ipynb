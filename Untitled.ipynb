{
 "cells": [
  {
   "cell_type": "code",
   "execution_count": 416,
   "id": "867cce02-e2d5-4efc-8fb2-a81896f8ecd5",
   "metadata": {},
   "outputs": [],
   "source": [
    "from sympy import symbols\n",
    "from copy import deepcopy\n",
    "from functools import partial, cmp_to_key"
   ]
  },
  {
   "cell_type": "code",
   "execution_count": 775,
   "id": "0f62c2bf-be51-4e58-8793-91f0abcbebf4",
   "metadata": {},
   "outputs": [],
   "source": [
    "class Parser:\n",
    "    letters = [chr(i) for i in range(ord('A'), ord('Z') + 1)]\n",
    "    letters += [chr(i) for i in range(ord('a'), ord('z') + 1)]\n",
    "    digits = [chr(i) for i in range(ord('0'), ord('9') + 1)]\n",
    "    strip = [' ', '\\n', '\\t']\n",
    "\n",
    "    N = {\n",
    "        1: '<P>',\n",
    "        2: '<M-L>',\n",
    "        3: '<M>',\n",
    "        4: '<C>',\n",
    "        5: '<num>',\n",
    "        6: '<I-L>',\n",
    "        7: '<int>',\n",
    "        8: '<vars>',\n",
    "        9: '<var>',\n",
    "        10: '<ind>',\n",
    "        11: '<exp>',\n",
    "        12: '+',\n",
    "        13: '-',\n",
    "        14: '_',\n",
    "        15: '.',\n",
    "        16: '^',\n",
    "        17: 'l',\n",
    "        18: 'd'\n",
    "    }\n",
    "\n",
    "    number = []\n",
    "    monom = []\n",
    "    polynom = []\n",
    "    notation = 1\n",
    "    pattern = ''\n",
    "\n",
    "    def get_polynom(string):\n",
    "        string = string.strip()\n",
    "        if string == '':\n",
    "            return []\n",
    "        \n",
    "        step = 0\n",
    "        magazine = [1]\n",
    "\n",
    "        Parser.pattern = ''\n",
    "        Parser.notation = 1\n",
    "        Parser.number.clear()\n",
    "        Parser.monom.clear()\n",
    "        Parser.polynom.clear()\n",
    "\n",
    "        l = Parser.__do_step(string, step, magazine)\n",
    "        # print([Parser.N[i] for i in magazine], step, len(string))\n",
    "        \n",
    "        while l[0] and len(magazine) > 0:\n",
    "            step = l[1]\n",
    "            l = Parser.__do_step(string, step, magazine)\n",
    "            # print([Parser.N[i] for i in magazine], l[1], len(string), Parser.monom)\n",
    "\n",
    "        # print(Parser.polynom)\n",
    "        p = Polynom()\n",
    "        for monom in Parser.polynom:\n",
    "            p.add_monom(Monom(monom))\n",
    "\n",
    "        return p\n",
    "            \n",
    "            \n",
    "        \n",
    "        \n",
    "\n",
    "    def __do_step(string, step, magazine):\n",
    "        # print(Parser.polynom, Parser.monom, 123123123)\n",
    "        if step == len(string):\n",
    "            # print(9, len(Parser.monom))\n",
    "            if len(Parser.monom) != 0:\n",
    "                if Parser.notation == 1 and string[-2] == '^':\n",
    "                    Parser.monom.append(''.join(Parser.number))\n",
    "                if Parser.notation == 2:\n",
    "                    Parser.monom.append(''.join(Parser.number))\n",
    "                if string[-2] == '-':\n",
    "                    if Parser.number != '':\n",
    "                        Parser.monom.append(''.join(Parser.number))\n",
    "                    else:\n",
    "                        raise Exception('Wrong syntax')\n",
    "                        \n",
    "                Parser.polynom.append(Parser.monom.copy())\n",
    "                Parser.monom.clear()\n",
    "\n",
    "        # if magazine[-1] != 9 and step == len(string):\n",
    "        #     if magazine[-1] == 7 and len(Parser.number) != 0:\n",
    "        #         print(f'Number={Parser.number} 123')\n",
    "                \n",
    "            magazine.pop()\n",
    "            return True, step\n",
    "        \n",
    "        if string[step] in Parser.strip:\n",
    "            return True, step + 1\n",
    "\n",
    "        \n",
    "        if magazine[-1] == 1:\n",
    "            if string[step] == '-' or string[step] in Parser.letters or string[step] in Parser.digits:\n",
    "                magazine.pop()\n",
    "                magazine += [2, 3]\n",
    "                return True, step\n",
    "\n",
    "            else:\n",
    "                return False,\n",
    "\n",
    "        elif magazine[-1] == 2:\n",
    "            if string[step] == '+':\n",
    "                magazine.pop()\n",
    "                magazine += [2, 3, 12]\n",
    "                # print(f'Monom: {Parser.monom} 123')\n",
    "                Parser.polynom.append(Parser.monom.copy())\n",
    "                Parser.monom.clear()\n",
    "                return True, step\n",
    "            else:\n",
    "                return False,\n",
    "\n",
    "        elif magazine[-1] == 3:\n",
    "            if string[step] == '-' or string[step] == '+' or string[step] in Parser.letters or string[step] in Parser.digits:\n",
    "                magazine.pop()\n",
    "                magazine += [8, 4]\n",
    "                return True, step\n",
    "\n",
    "            else:\n",
    "                return False,\n",
    "\n",
    "        elif magazine[-1] == 4:\n",
    "            if string[step] == '+' or string[step] in Parser.letters or string[step] in Parser.digits:\n",
    "                magazine[-1] = 5\n",
    "                return True, step\n",
    "            elif string[step] == '-':\n",
    "                magazine.pop()\n",
    "                magazine += [5, 13]\n",
    "                return True, step\n",
    "            else:\n",
    "                return False,\n",
    "\n",
    "        elif magazine[-1] == 5:\n",
    "            if string[step] in Parser.digits:\n",
    "                magazine.pop()\n",
    "                magazine += [6, 7]\n",
    "                return True, step\n",
    "            elif string[step] in Parser.letters:\n",
    "                magazine.pop()\n",
    "                return True, step\n",
    "            else:\n",
    "                return False,\n",
    "\n",
    "        elif magazine[-1] == 6:\n",
    "            if string[step] == '+' or string[step] in Parser.letters:\n",
    "                magazine.pop()\n",
    "                return True, step\n",
    "            elif string[step] == '.':\n",
    "                magazine.pop()\n",
    "                magazine += [7, 15]\n",
    "                return True, step\n",
    "            else:\n",
    "                return False,\n",
    "\n",
    "        elif magazine[-1] == 7:              \n",
    "            if string[step] in Parser.digits:\n",
    "                magazine.pop()\n",
    "                magazine += [7, 18]\n",
    "                return True, step\n",
    "            elif string[step] == '+' or string[step] == '.' or string[step] == '^' or string[step] in Parser.letters:\n",
    "                magazine.pop()\n",
    "                # print(f'Number={Parser.number}')\n",
    "                Parser.monom.append(''.join(Parser.number))\n",
    "                Parser.number.clear()\n",
    "                return True, step\n",
    "            else:\n",
    "                return False,\n",
    "\n",
    "        elif magazine[-1] == 8:\n",
    "            if string[step] == '+':\n",
    "                magazine.pop()\n",
    "                return True, step\n",
    "            elif string[step] in Parser.letters:\n",
    "                magazine.pop()\n",
    "                magazine += [8, 9]\n",
    "                return True, step\n",
    "            else:\n",
    "                return False,\n",
    "\n",
    "        elif magazine[-1] == 9:\n",
    "            if string[step] in Parser.letters:\n",
    "                magazine.pop()\n",
    "                magazine += [11, 10, 17]\n",
    "                # Parser.monom.append(''.join(Parser.number))\n",
    "                # Parser.number.clear()\n",
    "                return True, step\n",
    "            else:\n",
    "                return False,\n",
    "\n",
    "        elif magazine[-1] == 10:\n",
    "            if string[step] == '+' or string[step] == '.' or string[step] == '^' or string[step] in Parser.letters:\n",
    "                magazine.pop()\n",
    "                return True, step\n",
    "            elif string[step] == '_':\n",
    "                magazine.pop()\n",
    "                magazine += [7, 14]\n",
    "                return True, step\n",
    "            else:\n",
    "                return False,\n",
    "\n",
    "        elif magazine[-1] == 11:\n",
    "            if string[step] == '+' or string[step] in Parser.letters:\n",
    "                magazine.pop()\n",
    "                return True, step\n",
    "            elif string[step] == '^':\n",
    "                magazine.pop()\n",
    "                magazine += [7, 16]\n",
    "                return True, step\n",
    "\n",
    "        elif magazine[-1] == 12:\n",
    "            if string[step] == '+':\n",
    "                magazine.pop()\n",
    "                return True, step + 1\n",
    "            else:\n",
    "                return False,\n",
    "\n",
    "        elif magazine[-1] == 13:\n",
    "            if string[step] == '-':\n",
    "                magazine.pop()\n",
    "                Parser.monom.append('-')\n",
    "                return True, step + 1\n",
    "            else:\n",
    "                return False,\n",
    "\n",
    "        elif magazine[-1] == 14:\n",
    "            if string[step] == '_':\n",
    "                if len(Parser.polynom) == 0:\n",
    "                    Parser.notation = 2\n",
    "                    Parser.pattern = string[step-1]\n",
    "                else:\n",
    "                    if Parser.notation == 1:\n",
    "                        raise Exception('Notation exception')\n",
    "                magazine.pop()\n",
    "                Parser.monom.append('_')\n",
    "                return True, step + 1\n",
    "            else:\n",
    "                return False,\n",
    "\n",
    "        elif magazine[-1] == 15:\n",
    "            if string[step] == '.':\n",
    "                magazine.pop()\n",
    "                return True, step + 1\n",
    "            else:\n",
    "                return False,\n",
    "\n",
    "        elif magazine[-1] == 16:\n",
    "            if string[step] == '^':\n",
    "                magazine.pop()\n",
    "                Parser.monom.append('^')\n",
    "                return True, step + 1\n",
    "            else:\n",
    "                return False,\n",
    "\n",
    "        elif magazine[-1] == 17:\n",
    "            if string[step] in Parser.letters:\n",
    "                if Parser.notation == 2:\n",
    "                    if string[step] != Parser.pattern or step + 1 >= len(string) or string[step+1] != '_':\n",
    "                        raise Exception('Notation exception')\n",
    "                magazine.pop()\n",
    "                # print(string[step])\n",
    "                Parser.monom.append(string[step])\n",
    "                return True, step + 1\n",
    "            else:\n",
    "                return False,\n",
    "\n",
    "        elif magazine[-1] == 18:\n",
    "            if string[step] in Parser.digits:\n",
    "                magazine.pop()\n",
    "                Parser.number.append(string[step])\n",
    "                return True, step + 1\n",
    "            else:\n",
    "                return False,\n",
    "\n",
    "        \n",
    "        raise Exception('Wrong syntax')"
   ]
  },
  {
   "cell_type": "code",
   "execution_count": 938,
   "id": "d1da73ff-bb60-49ee-a591-4989d5500cba",
   "metadata": {},
   "outputs": [],
   "source": [
    "class Monom:\n",
    "    def clone(m):\n",
    "        res = Monom()\n",
    "        res.coef = m.coef\n",
    "        res.__notation = m.__notation\n",
    "        res.vars = deepcopy(m.vars)\n",
    "        return res\n",
    "    \n",
    "    def __init__(self, lst=''):\n",
    "        # print(lst)\n",
    "        if lst=='':\n",
    "            self.coef = 0\n",
    "            return\n",
    "            \n",
    "        self.coef = 1\n",
    "        start = 1\n",
    "        try:\n",
    "            self.coef = float(lst[0])\n",
    "        except Exception as e:\n",
    "            if lst[0] == '-':\n",
    "                self.coef = -float(lst[1])\n",
    "                start = 2\n",
    "            else:\n",
    "                start = 0\n",
    "\n",
    "        self.__notation = 1\n",
    "        \n",
    "        self.vars = []\n",
    "        var = []\n",
    "        new_var = True\n",
    "        self.__pattern = ''\n",
    "\n",
    "        \n",
    "        i = start\n",
    "        while i < len(lst):\n",
    "            if new_var:\n",
    "                var.append(lst[i])\n",
    "                i += 1\n",
    "                new_var = False\n",
    "                continue\n",
    "            if lst[i] != '_' and lst[i] != '^':\n",
    "                if self.__notation == 2 and (len(var[0]) == 1 or self.__pattern != var[0][0]):\n",
    "                        raise Exception('Notation exception')\n",
    "                if len(var) == 1:\n",
    "                    var.append(1)\n",
    "                self.vars.append(var.copy())\n",
    "                var.clear()\n",
    "                new_var = True\n",
    "            else:\n",
    "                if lst[i] == '_':\n",
    "                    if i == start + 1:\n",
    "                        self.__notation = 2\n",
    "                        self.__pattern = lst[i-1]\n",
    "                    elif self.__notation == 1:\n",
    "                        print(var)\n",
    "                        raise Exception('Notation exception')\n",
    "                    var[-1] += '_' + lst[i+1]\n",
    "                    \n",
    "                elif lst[i] == '^':\n",
    "                    var.append(int(lst[i+1]))\n",
    "                i += 2\n",
    "        \n",
    "        # print(var)\n",
    "        if len(var) != 0:\n",
    "            if len(var) == 1:\n",
    "                var.append(1)\n",
    "            self.vars.append(var)\n",
    "\n",
    "    def __repr__(self):\n",
    "        return str(self.coef) + str(self.vars)\n",
    "    \n",
    "            \n",
    "    def expr(self):\n",
    "        # print(self.vars)\n",
    "        if self.coef == 0:\n",
    "            return symbols('0')\n",
    "        if len(self.vars) == 0:\n",
    "            return symbols(str(self.coef))\n",
    "            \n",
    "        x = symbols([el[0] for el in self.vars])\n",
    "        expr = x[0]**self.vars[0][1]\n",
    "        for i, el in enumerate(x[1:]):\n",
    "            expr *= el**self.vars[i+1][1]\n",
    "        return self.coef*expr\n",
    "\n",
    "    # Monom degree\n",
    "    def deg(self):\n",
    "        return sum([var[1] for var in self.vars])\n",
    "\n",
    "    # Multiplying by a number\n",
    "    def times(self, k):\n",
    "        self.coef *= k\n",
    "        if k == 0:\n",
    "            self.vars = []\n",
    "\n",
    "        return self\n",
    "\n",
    "    ## Multiplying by a monom\n",
    "    def mult(self, m):\n",
    "        if self.__notation != m.__notation:\n",
    "            raise Exception('Notation error')\n",
    "        self.times(m.coef)\n",
    "        for var in m.vars:\n",
    "            flag = False\n",
    "            for s_var in self.vars:\n",
    "                if var[0] == s_var[0]:\n",
    "                    flag = True\n",
    "                    break\n",
    "            if flag:\n",
    "                s_var[1] += var[1]\n",
    "            else:\n",
    "                self.vars.append(var)\n",
    "\n",
    "    def notation(self):\n",
    "        return self.__notation\n",
    "\n",
    "\n",
    "    # def is_divides(self, monom):\n",
    "    #     if self.__notation != monom.__notation:\n",
    "    #         raise Exception('Notation error')\n",
    "\n",
    "\n",
    "    #     for v1 in monom.vars:\n",
    "    #         for v2 in self.vars:\n",
    "    #             if v1[0] == v2[0] and v1[1] <= v2[1]:\n",
    "    #                 continue\n",
    "    #             else:\n",
    "    #                 return False\n",
    "    #     return True\n",
    "\n",
    "    # def div(self, monom):\n",
    "    #     self.coef /= monom.coef\n",
    "    #     for v1 in monom.vars:\n",
    "    #         for v2 in self.vars:\n",
    "    #             if v1[0] == v2[0]:\n",
    "    #                 v2[1] -= v1[1]\n",
    "\n",
    "    # m2/m1\n",
    "    def is_divides(m1, m2):\n",
    "        if m1.__notation != m2.__notation:\n",
    "            raise Exception('Notation error')\n",
    "\n",
    "        res = Monom.clone(m2)\n",
    "        # print('%%% res: ' + str(res) + ' m2: ' + str(m2))\n",
    "        \n",
    "        for v1 in m1.vars:\n",
    "            edited = False\n",
    "            for i, v2 in enumerate(m2.vars):\n",
    "                # print(v1, v2)\n",
    "                if v1[0] == v2[0]:\n",
    "                    if v1[1] <= v2[1]:\n",
    "                        # print('%%% res: ' + str(res.vars) + ' i: ' + str(i))\n",
    "                        res.vars[i][1] -= v1[1]\n",
    "                        edited = True\n",
    "                    else:\n",
    "                        return False,\n",
    "                    break\n",
    "            if not edited:\n",
    "                return False,\n",
    "\n",
    "        i = 0\n",
    "        while i < len(res.vars):\n",
    "            if res.vars[i][1] == 0:\n",
    "                res.vars.pop(i)\n",
    "            else:\n",
    "                i+=1\n",
    "        \n",
    "        res.coef /= m1.coef\n",
    "        return True, res\n",
    "\n",
    "    def is_same_degree(self, m):\n",
    "        if len(self.vars) != len(m.vars):\n",
    "            return False\n",
    "            \n",
    "        for v1 in self.vars:\n",
    "            f = False\n",
    "            for v2 in m.vars:\n",
    "                if v1[0] == v2[0]:\n",
    "                    if v1[1] == v2[1]:\n",
    "                        f = True\n",
    "                        break\n",
    "                    else:\n",
    "                        return False\n",
    "            if not f:\n",
    "                return False\n",
    "        return True"
   ]
  },
  {
   "cell_type": "code",
   "execution_count": 950,
   "id": "332ca479-95f0-452a-a353-5856e0796931",
   "metadata": {},
   "outputs": [],
   "source": [
    "class Polynom:\n",
    "    def __init__(self):\n",
    "        self.monoms = []\n",
    "        self.vars = []\n",
    "        self.__notation = 1\n",
    "\n",
    "    def clone(p):\n",
    "        res = Polynom()\n",
    "        res.add_polynom(p)\n",
    "        return res\n",
    "        \n",
    "    def add_monom(self, monom):\n",
    "        # print('------------', self.expr())\n",
    "        # print('monom: ', monom.expr())\n",
    "        if len(self.monoms) != 0 and monom.notation() != self.__notation:\n",
    "            raise Exception('Notation error')\n",
    "            \n",
    "        for el in self.monoms:\n",
    "            # print(el.expr(), el.is_same_degree(monom), monom.expr())\n",
    "            if el.is_same_degree(monom):\n",
    "                el.coef += monom.coef\n",
    "                if el.coef == 0:\n",
    "                    self.monoms.remove(el)\n",
    "                return\n",
    "                \n",
    "        self.monoms.append(deepcopy(monom))\n",
    "        self.__notation = monom.notation()\n",
    "\n",
    "    def add_polynom(self, polynom):\n",
    "        for monom in polynom.monoms:\n",
    "            self.add_monom(monom)\n",
    "\n",
    "    # Multiplying by a number\n",
    "    def times(self, k):\n",
    "        if k == 0:\n",
    "            self.monoms = []\n",
    "        else:\n",
    "            for monom in self.monoms:\n",
    "                monom.coef *= k\n",
    "        return self\n",
    "\n",
    "    def mult_monom(self, m):\n",
    "        prev_monoms = self.monoms\n",
    "        self.monoms = []\n",
    "\n",
    "        for monom in prev_monoms:\n",
    "            new_monom = Monom.clone(monom)\n",
    "            new_monom.mult(m)\n",
    "            self.add_monom(new_monom)\n",
    "\n",
    "        return self\n",
    "        \n",
    "    # Multiplying by a polynom\n",
    "    def mult(self, p):\n",
    "        prev_monoms = self.monoms\n",
    "        self.monoms = []\n",
    "\n",
    "        for monom in prev_monoms:\n",
    "            for mult_monom in p.monoms:\n",
    "                new_monom = Monom.clone(monom)\n",
    "                new_monom.mult(mult_monom)\n",
    "                self.add_monom(new_monom)\n",
    "        return self\n",
    "    \n",
    "    # Порядок многочленов не свой :c\n",
    "    def expr(self):\n",
    "        if len(self.monoms):\n",
    "            # expr = self.monoms[0].expr()\n",
    "            # for el in self.monoms[1:]:\n",
    "            #     expr += el.expr()\n",
    "            # return expr\n",
    "            return sum(el.expr() for el in self.monoms)\n",
    "\n",
    "    # Polynom degree\n",
    "    def deg(self):\n",
    "        return max([monom.deg() for monom in self.monoms])\n",
    "\n",
    "    # Ordering of monomials\n",
    "    def ordering(self, variables, ordering, reverse=True):\n",
    "        f = lambda x,y: ordering(variables, x, y)\n",
    "        self.monoms = sorted(self.monoms, key=cmp_to_key(f), reverse=reverse)\n",
    "\n",
    "    def __str__(self):\n",
    "        if len(self.monoms):\n",
    "            res = str(self.monoms[0].expr())\n",
    "            for el in self.monoms[1:]:\n",
    "                res +=  ' + '+ str(el.expr())\n",
    "            return res\n",
    "        return ''\n",
    "\n",
    "    def multideg(self, variables):\n",
    "        return get_lst(variables, self.monoms[0])\n",
    "\n",
    "    def LC(self, variables):\n",
    "        return self.monoms[0].coef\n",
    "\n",
    "    def LM(self):\n",
    "        res = deepcopy(self.monoms[0])\n",
    "        res.coef = 1\n",
    "        return res\n",
    "\n",
    "    def LT(self):\n",
    "        return deepcopy(self.monoms[0])\n",
    "\n",
    "    def is_zero(self):\n",
    "        return self.monoms == []"
   ]
  },
  {
   "cell_type": "code",
   "execution_count": 859,
   "id": "5e036403-34ff-4da9-b0e9-4689db3acdd6",
   "metadata": {},
   "outputs": [],
   "source": [
    "def get_lst(variables, m):\n",
    "    res = []\n",
    "    for variable in variables:\n",
    "        if variables.count(variable) != 1:\n",
    "            raise Exception('Variables must be unique')\n",
    "        finded = False\n",
    "        for i, var in enumerate(m.vars):\n",
    "            if variable == var[0]:\n",
    "                finded = True\n",
    "                break\n",
    "        if finded:\n",
    "            res.append(m.vars[i][1])\n",
    "        else:\n",
    "            res.append(0)\n",
    "    return res\n",
    "\n",
    "# Lexicographic comparison relation: m1 > m2\n",
    "def lex(variables, m1, m2):\n",
    "    a1 = get_lst(variables, m1)\n",
    "    a2 = get_lst(variables, m2)\n",
    "\n",
    "    # print([a1 - a2 for a1, a2 in zip(a1, a2)])\n",
    "    for el1, el2 in zip(a1, a2):\n",
    "        if el1 - el2 > 0:\n",
    "            return 1 # True\n",
    "        if el1 - el2 < 0:\n",
    "            return -1 # False\n",
    "\n",
    "    return -1 # False\n",
    "\n",
    "def grlex(variables, m1, m2):\n",
    "    a1 = get_lst(variables, m1)\n",
    "    a2 = get_lst(variables, m2)\n",
    "\n",
    "    if sum(map(abs, a1)) > sum(map(abs, a2)):\n",
    "        return 1 # True\n",
    "    elif sum(map(abs, a1)) == sum(map(abs, a2)) and lex(variables, m1, m2):\n",
    "        return 1 # True\n",
    "\n",
    "    return -1 # False\n",
    "\n",
    "def grevlex(variables, m1, m2):\n",
    "    a1 = get_lst(variables, m1)\n",
    "    a2 = get_lst(variables, m2)\n",
    "\n",
    "    if sum(map(abs, a1)) > sum(map(abs, a2)):\n",
    "        return 1 # True\n",
    "    elif sum(map(abs, a1)) == sum(map(abs, a2)):\n",
    "        for a1, a2 in zip(a1[::-1], a2[::-1]):\n",
    "            if a1 - a2 < 0:\n",
    "                return 1 # True\n",
    "            if a1 - a2 > 0:\n",
    "                return -1 # False\n",
    "\n",
    "    return -1 # False"
   ]
  },
  {
   "cell_type": "code",
   "execution_count": 941,
   "id": "78b5e681-f2bc-425f-8e18-02eca104e902",
   "metadata": {},
   "outputs": [],
   "source": [
    "def div(variables, ordering, polynoms, polynom):\n",
    "    for p in polynoms:\n",
    "        p.ordering(variables, ordering)\n",
    "\n",
    "    p = Polynom.clone(polynom)\n",
    "    p.ordering(variables, ordering)\n",
    "\n",
    "    r = Polynom()\n",
    "    \n",
    "    s = len(polynoms)\n",
    "    a = [Polynom() for i in range(s)]\n",
    "\n",
    "    while not p.is_zero():\n",
    "        i = 0\n",
    "        divides = False\n",
    "        # print('p: ', p.expr(), p.monoms)\n",
    "        # print('f_i: ', polynoms[i].expr())\n",
    "        # print('LT(f_i): ', polynoms[i].LT().expr(), ' LT(p): ', p.LT().expr())\n",
    "        # print('LT(p)/LT(f_i): ', Monom.is_divides(polynoms[i].LT(), p.LT()))\n",
    "        # print('------------------------------------------')\n",
    "        while i < s and not divides:\n",
    "            # print('p: ', p.expr())\n",
    "            # print('f_i: ', polynoms[i].expr())\n",
    "            # print('LT(f_i): ', polynoms[i].LT().expr(), ' LT(p): ', p.LT().expr())\n",
    "            # print('LT(p)/LT(f_i): ', Monom.is_divides(polynoms[i].LT(), p.LT()))\n",
    "            k = Monom.is_divides(polynoms[i].LT(), p.LT())\n",
    "            if k[0]:\n",
    "                # print('d: ', k[1].expr())\n",
    "                a[i].add_monom(k[1])\n",
    "                d = Polynom()\n",
    "                d.add_polynom(polynoms[i])\n",
    "                d.mult_monom(k[1])\n",
    "                d.times(-1)\n",
    "                # print('-: ', d.expr())\n",
    "                p.add_polynom(d)\n",
    "                p.ordering(variables, ordering)\n",
    "                # print('p: ', p.expr(), p.monoms)\n",
    "                # print('^^^^^^^^^^^^^^^^^^^^^^^^^^^^^^^^^^^^^^')\n",
    "                divides = True\n",
    "            else:\n",
    "                i += 1\n",
    "        if not divides:\n",
    "            r.add_monom(p.LT())\n",
    "            p.add_monom(p.LT().times(-1))\n",
    "\n",
    "    return a, r"
   ]
  },
  {
   "cell_type": "markdown",
   "id": "2308f1f5-e6a9-4076-8e62-7d1162ea19fd",
   "metadata": {},
   "source": [
    "# Упорядочения"
   ]
  },
  {
   "cell_type": "code",
   "execution_count": 849,
   "id": "17046a17-2556-41d2-8bad-bf32f4822078",
   "metadata": {},
   "outputs": [
    {
     "name": "stdout",
     "output_type": "stream",
     "text": [
      "4.0*x*y**2*z + 4.0*z**2 + -5.0*x**3 + 7.0*x**2*z**2\n"
     ]
    },
    {
     "data": {
      "text/latex": [
       "$\\displaystyle - 5.0 x^{3} + 7.0 x^{2} z^{2} + 4.0 x y^{2} z + 4.0 z^{2}$"
      ],
      "text/plain": [
       "-5.0*x**3 + 7.0*x**2*z**2 + 4.0*x*y**2*z + 4.0*z**2"
      ]
     },
     "execution_count": 849,
     "metadata": {},
     "output_type": "execute_result"
    }
   ],
   "source": [
    "a = '4xy^2z + 4z^2 + -5x^3 + 7x^2z^2'\n",
    "p = Parser.get_polynom(a)\n",
    "print(p)\n",
    "p.expr()"
   ]
  },
  {
   "cell_type": "code",
   "execution_count": 826,
   "id": "add967ff-3453-4d30-8e8c-d051aa878f90",
   "metadata": {},
   "outputs": [
    {
     "data": {
      "text/plain": [
       "(False,)"
      ]
     },
     "execution_count": 826,
     "metadata": {},
     "output_type": "execute_result"
    }
   ],
   "source": [
    "Monom.is_divides(p.monoms[3], p.monoms[1])"
   ]
  },
  {
   "cell_type": "code",
   "execution_count": 827,
   "id": "95fe64a2-0340-4896-925d-1222940eee0e",
   "metadata": {},
   "outputs": [
    {
     "name": "stdout",
     "output_type": "stream",
     "text": [
      "-5.0*x**3 + 7.0*x**2*z**2 + 4.0*x*y**2*z + 4.0*z**2\n"
     ]
    }
   ],
   "source": [
    "p.ordering(['x', 'y', 'z'], lex)\n",
    "print(p)"
   ]
  },
  {
   "cell_type": "code",
   "execution_count": 828,
   "id": "eae41b46-d4d0-4ed9-a130-ed172836518e",
   "metadata": {},
   "outputs": [
    {
     "name": "stdout",
     "output_type": "stream",
     "text": [
      "7.0*x**2*z**2 + 4.0*x*y**2*z + -5.0*x**3 + 4.0*z**2\n"
     ]
    }
   ],
   "source": [
    "p.ordering(['x', 'y', 'z'], grlex)\n",
    "print(p)"
   ]
  },
  {
   "cell_type": "code",
   "execution_count": 829,
   "id": "6375083e-32df-4f78-a839-f26f47af936b",
   "metadata": {},
   "outputs": [
    {
     "name": "stdout",
     "output_type": "stream",
     "text": [
      "4.0*x*y**2*z + 7.0*x**2*z**2 + -5.0*x**3 + 4.0*z**2\n"
     ]
    }
   ],
   "source": [
    "p.ordering(['x', 'y', 'z'], grevlex)\n",
    "print(p)"
   ]
  },
  {
   "cell_type": "markdown",
   "id": "3b18136e-182e-43ea-9a16-9bebf705205b",
   "metadata": {},
   "source": [
    "# Деление"
   ]
  },
  {
   "cell_type": "code",
   "execution_count": 956,
   "id": "be2c4585-4d97-4544-a917-8fdf128115ee",
   "metadata": {},
   "outputs": [
    {
     "data": {
      "text/latex": [
       "$\\displaystyle x^{2} y + x y^{2} + y^{2}$"
      ],
      "text/plain": [
       "x**2*y + x*y**2 + y**2"
      ]
     },
     "execution_count": 956,
     "metadata": {},
     "output_type": "execute_result"
    }
   ],
   "source": [
    "f = Parser.get_polynom('x^2y + xy^2 + y^2')\n",
    "f_1 = Parser.get_polynom('y^2 + -1')\n",
    "f_2 = Parser.get_polynom('xy + -1')\n",
    "# print(f_1.expr(), f_2.expr())\n",
    "variables = ['x', 'y']\n",
    "a, r = div(variables, lex, [f_1, f_2], f)\n",
    "f.expr()"
   ]
  },
  {
   "cell_type": "code",
   "execution_count": 957,
   "id": "e28b6d52-a1d5-4e6d-b051-2ff99deb80b8",
   "metadata": {},
   "outputs": [
    {
     "name": "stdout",
     "output_type": "stream",
     "text": [
      "1.0 + 1.0*x\n",
      "1.0*x\n",
      "1.0 + 2.0*x\n"
     ]
    }
   ],
   "source": [
    "for p in a:\n",
    "    print(p.expr())\n",
    "\n",
    "print(r.expr())"
   ]
  },
  {
   "cell_type": "code",
   "execution_count": 958,
   "id": "10346cba-ee10-450c-97fb-b94dea2a5f15",
   "metadata": {},
   "outputs": [
    {
     "data": {
      "text/latex": [
       "$\\displaystyle 1.0 x^{2} y + 1.0 x y^{2} + 1.0 y^{2}$"
      ],
      "text/plain": [
       "1.0*x**2*y + 1.0*x*y**2 + 1.0*y**2"
      ]
     },
     "execution_count": 958,
     "metadata": {},
     "output_type": "execute_result"
    }
   ],
   "source": [
    "# проверка\n",
    "p = Polynom()\n",
    "\n",
    "p.add_polynom(a[0].mult(f_1))\n",
    "p.add_polynom(a[1].mult(f_2))\n",
    "p.add_polynom(r)\n",
    "\n",
    "p.expr()"
   ]
  },
  {
   "cell_type": "code",
   "execution_count": 960,
   "id": "c67942cf-f7cb-4777-b8a5-4fb4656b039d",
   "metadata": {},
   "outputs": [],
   "source": [
    "f = Parser.get_polynom('x^2y + xy^2 + y^2')\n",
    "f_1 = Parser.get_polynom('y^2 + -1')\n",
    "f_2 = Parser.get_polynom('xy + -1')\n",
    "# print(f_1.expr(), f_2.expr())\n",
    "variables = ['x', 'y']\n",
    "a, r = div(variables, lex, [f_2, f_1], f)"
   ]
  },
  {
   "cell_type": "code",
   "execution_count": 961,
   "id": "3ccffa07-014d-417b-8c3a-649d8defaf7e",
   "metadata": {},
   "outputs": [
    {
     "name": "stdout",
     "output_type": "stream",
     "text": [
      "1.0*x + 1.0*y\n",
      "1.0\n",
      "1.0 + 1.0*x + 1.0*y\n"
     ]
    }
   ],
   "source": [
    "for p in a:\n",
    "    print(p.expr())\n",
    "\n",
    "print(r.expr())"
   ]
  },
  {
   "cell_type": "code",
   "execution_count": 962,
   "id": "403c70e1-b64d-42c8-b1fe-b9baca45e45a",
   "metadata": {},
   "outputs": [
    {
     "data": {
      "text/latex": [
       "$\\displaystyle 1.0 x^{2} y + 1.0 x y^{2} + 1.0 y^{2}$"
      ],
      "text/plain": [
       "1.0*x**2*y + 1.0*x*y**2 + 1.0*y**2"
      ]
     },
     "execution_count": 962,
     "metadata": {},
     "output_type": "execute_result"
    }
   ],
   "source": [
    "# проверка\n",
    "p = Polynom()\n",
    "\n",
    "p.add_polynom(a[0].mult(f_2))\n",
    "p.add_polynom(a[1].mult(f_1))\n",
    "p.add_polynom(r)\n",
    "\n",
    "p.expr()"
   ]
  },
  {
   "cell_type": "markdown",
   "id": "e094d6b1-5fd9-4c0a-90ef-ee8cfd8eaf66",
   "metadata": {},
   "source": [
    "# Другие методы"
   ]
  },
  {
   "cell_type": "code",
   "execution_count": 916,
   "id": "c63b0ca6-e10c-4032-b6f2-080ed8216626",
   "metadata": {},
   "outputs": [
    {
     "data": {
      "text/latex": [
       "$\\displaystyle - 5.0 x^{3} + 7.0 x^{2} z^{2} + 4.0 x y^{2} z + 4.0 z^{2}$"
      ],
      "text/plain": [
       "-5.0*x**3 + 7.0*x**2*z**2 + 4.0*x*y**2*z + 4.0*z**2"
      ]
     },
     "execution_count": 916,
     "metadata": {},
     "output_type": "execute_result"
    }
   ],
   "source": [
    "a = '4xy^2z + 4z^2 + -5x^3 + 7x^2z^2'\n",
    "p = Parser.get_polynom(a)\n",
    "p.expr()"
   ]
  },
  {
   "cell_type": "code",
   "execution_count": 919,
   "id": "8f2c61bb-d903-4499-8f5f-238431f4b1f5",
   "metadata": {},
   "outputs": [
    {
     "data": {
      "text/latex": [
       "$\\displaystyle - 5.0 x^{3} + 7.0 x^{2} z^{2} - 32.0 x y^{2} z + 4.0 z^{2}$"
      ],
      "text/plain": [
       "-5.0*x**3 + 7.0*x**2*z**2 - 32.0*x*y**2*z + 4.0*z**2"
      ]
     },
     "execution_count": 919,
     "metadata": {},
     "output_type": "execute_result"
    }
   ],
   "source": [
    "b = p.monoms[0]\n",
    "b.times(-1)\n",
    "p.add_monom(b)\n",
    "p.expr()"
   ]
  },
  {
   "cell_type": "code",
   "execution_count": 884,
   "id": "7fd06218-04ee-4f67-bea2-ed92531944ca",
   "metadata": {},
   "outputs": [
    {
     "data": {
      "text/plain": [
       "True"
      ]
     },
     "execution_count": 884,
     "metadata": {},
     "output_type": "execute_result"
    }
   ],
   "source": [
    "b.is_same_degree(b)"
   ]
  },
  {
   "cell_type": "code",
   "execution_count": 878,
   "id": "9ba67451-26a0-4350-9c7b-798a332ca31d",
   "metadata": {},
   "outputs": [
    {
     "data": {
      "text/plain": [
       "[4.0[['x', 1], ['y', 2], ['z', 1]],\n",
       " 4.0[['z', 2]],\n",
       " -5.0[['x', 3]],\n",
       " 7.0[['x', 2], ['z', 2]],\n",
       " 4.0[['x', 1], ['y', 2], ['z', 1]],\n",
       " 4.0[['x', 1], ['y', 2], ['z', 1]]]"
      ]
     },
     "execution_count": 878,
     "metadata": {},
     "output_type": "execute_result"
    }
   ],
   "source": [
    "p.monoms"
   ]
  },
  {
   "cell_type": "code",
   "execution_count": 586,
   "id": "982e2cd7-6fbd-4d87-9b75-23d68773c608",
   "metadata": {},
   "outputs": [],
   "source": [
    "v = ['x', 'y', 'z']\n",
    "p.ordering(v, lex)"
   ]
  },
  {
   "cell_type": "code",
   "execution_count": 588,
   "id": "0a00c8b6-f431-47a5-a53b-bc2bddb287ee",
   "metadata": {},
   "outputs": [
    {
     "data": {
      "text/plain": [
       "[3, 0, 0]"
      ]
     },
     "execution_count": 588,
     "metadata": {},
     "output_type": "execute_result"
    }
   ],
   "source": [
    "p.multideg(v)"
   ]
  },
  {
   "cell_type": "code",
   "execution_count": 589,
   "id": "38a27383-6f12-4037-a101-0af08b3b5c0b",
   "metadata": {},
   "outputs": [
    {
     "data": {
      "text/plain": [
       "-5.0"
      ]
     },
     "execution_count": 589,
     "metadata": {},
     "output_type": "execute_result"
    }
   ],
   "source": [
    "p.LC(v)"
   ]
  },
  {
   "cell_type": "code",
   "execution_count": 591,
   "id": "f2eae244-af7a-4e58-9810-3d45b3d60d90",
   "metadata": {},
   "outputs": [
    {
     "data": {
      "text/latex": [
       "$\\displaystyle x^{3}$"
      ],
      "text/plain": [
       "x**3"
      ]
     },
     "execution_count": 591,
     "metadata": {},
     "output_type": "execute_result"
    }
   ],
   "source": [
    "p.LM().expr()"
   ]
  },
  {
   "cell_type": "code",
   "execution_count": 592,
   "id": "0134532b-a4b8-4658-86d1-38bc2f9ae942",
   "metadata": {},
   "outputs": [
    {
     "data": {
      "text/latex": [
       "$\\displaystyle - 5.0 x^{3}$"
      ],
      "text/plain": [
       "-5.0*x**3"
      ]
     },
     "execution_count": 592,
     "metadata": {},
     "output_type": "execute_result"
    }
   ],
   "source": [
    "p.LT().expr()"
   ]
  },
  {
   "cell_type": "code",
   "execution_count": 607,
   "id": "c58947f1-0e1f-4102-82bf-38b174590c9f",
   "metadata": {},
   "outputs": [
    {
     "data": {
      "text/latex": [
       "$\\displaystyle - 5.0 x^{3}$"
      ],
      "text/plain": [
       "-5.0*x**3"
      ]
     },
     "execution_count": 607,
     "metadata": {},
     "output_type": "execute_result"
    }
   ],
   "source": [
    "a = p.LT()\n",
    "a.expr()"
   ]
  },
  {
   "cell_type": "code",
   "execution_count": 618,
   "id": "f83400c8-68dc-4920-b18b-17073986b23b",
   "metadata": {},
   "outputs": [],
   "source": [
    "b = Polynom()\n",
    "b.add_monom(a)"
   ]
  },
  {
   "cell_type": "code",
   "execution_count": 619,
   "id": "3f4660fb-15d1-412e-be18-3b51cea441f8",
   "metadata": {},
   "outputs": [],
   "source": [
    "a.times(-1)\n",
    "b.add_monom(a)"
   ]
  },
  {
   "cell_type": "code",
   "execution_count": 622,
   "id": "61864f8d-19a9-4f17-9258-62baa1ae0f5e",
   "metadata": {},
   "outputs": [
    {
     "data": {
      "text/plain": [
       "[]"
      ]
     },
     "execution_count": 622,
     "metadata": {},
     "output_type": "execute_result"
    }
   ],
   "source": [
    "b.monoms"
   ]
  },
  {
   "cell_type": "code",
   "execution_count": null,
   "id": "47622f66-1801-4aa0-be01-d9ecfeaba465",
   "metadata": {},
   "outputs": [],
   "source": []
  }
 ],
 "metadata": {
  "kernelspec": {
   "display_name": "Python 3 (ipykernel)",
   "language": "python",
   "name": "python3"
  },
  "language_info": {
   "codemirror_mode": {
    "name": "ipython",
    "version": 3
   },
   "file_extension": ".py",
   "mimetype": "text/x-python",
   "name": "python",
   "nbconvert_exporter": "python",
   "pygments_lexer": "ipython3",
   "version": "3.10.12"
  }
 },
 "nbformat": 4,
 "nbformat_minor": 5
}
